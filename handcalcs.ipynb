{
 "cells": [
  {
   "cell_type": "code",
   "execution_count": 7,
   "metadata": {
    "collapsed": true
   },
   "outputs": [],
   "source": [
    "import handcalcs.render\n",
    "import forallpeople\n",
    "from math import sqrt"
   ]
  },
  {
   "cell_type": "code",
   "execution_count": 9,
   "outputs": [
    {
     "data": {
      "text/plain": "<IPython.core.display.Latex object>",
      "text/latex": "\\[\n\\begin{aligned}\na &= 10 \\; \n\\\\[10pt]\nb &= 20 \\; \n\\\\[10pt]\nx &= \\left( - b \\right) + \\sqrt { \\left( b \\right) ^{ 2 } + 5 \\cdot a \\cdot b } + 65  = \\left( - 20 \\right) + \\sqrt { \\left( 20 \\right) ^{ 2 } + 5 \\cdot 10 \\cdot 20 } + 65 &= 82.417  \n\\end{aligned}\n\\]"
     },
     "metadata": {},
     "output_type": "display_data"
    }
   ],
   "source": [
    "%%render\n",
    "a = 10\n",
    "b = 20\n",
    "x = -b + sqrt(b**2 + 5*a*b) + 65\n"
   ],
   "metadata": {
    "collapsed": false
   }
  },
  {
   "cell_type": "code",
   "execution_count": 10,
   "outputs": [],
   "source": [
    "forallpeople.environment('structural', top_level = True)"
   ],
   "metadata": {
    "collapsed": false
   }
  },
  {
   "cell_type": "code",
   "execution_count": 11,
   "outputs": [
    {
     "data": {
      "text/plain": "<IPython.core.display.Latex object>",
      "text/latex": "\\[\n\\begin{aligned}\nz_{x} &= 300 \\times 10 ^ {3} \\cdot \\left( \\mathrm{mm} \\right) ^{ 3 }  = 300 \\times 10 ^ {3} \\cdot \\left( mm \\right) ^{ 3 } &= 300000.000\\ \\mathrm{mm}^{3}  \n\\end{aligned}\n\\]"
     },
     "metadata": {},
     "output_type": "display_data"
    }
   ],
   "source": [
    "%%render\n",
    "z_x = 300e3*mm**3"
   ],
   "metadata": {
    "collapsed": false
   }
  },
  {
   "cell_type": "code",
   "execution_count": null,
   "outputs": [],
   "source": [],
   "metadata": {
    "collapsed": false
   }
  }
 ],
 "metadata": {
  "kernelspec": {
   "display_name": "Python 3",
   "language": "python",
   "name": "python3"
  },
  "language_info": {
   "codemirror_mode": {
    "name": "ipython",
    "version": 2
   },
   "file_extension": ".py",
   "mimetype": "text/x-python",
   "name": "python",
   "nbconvert_exporter": "python",
   "pygments_lexer": "ipython2",
   "version": "2.7.6"
  }
 },
 "nbformat": 4,
 "nbformat_minor": 0
}
